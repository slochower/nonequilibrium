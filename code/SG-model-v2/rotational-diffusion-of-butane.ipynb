{
 "cells": [
  {
   "cell_type": "code",
   "execution_count": 1,
   "metadata": {
    "collapsed": true
   },
   "outputs": [],
   "source": [
    "from simulation import *\n",
    "from aesthetics import *\n",
    "from models import *\n",
    "from data import *\n",
    "\n",
    "import numpy as np\n",
    "import scipy as sc\n",
    "import os as os\n",
    "import re as re"
   ]
  },
  {
   "cell_type": "code",
   "execution_count": 2,
   "metadata": {
    "collapsed": true
   },
   "outputs": [],
   "source": [
    "%reload_ext autoreload\n",
    "%autoreload 2\n",
    "%matplotlib inline\n",
    "mpl.rc('text', usetex=True)"
   ]
  },
  {
   "cell_type": "code",
   "execution_count": 3,
   "metadata": {
    "collapsed": true
   },
   "outputs": [],
   "source": [
    "def autocorr(x):\n",
    "    result = np.correlate(x, x, mode='full')\n",
    "    return result[result.size/2:]"
   ]
  },
  {
   "cell_type": "code",
   "execution_count": 4,
   "metadata": {
    "collapsed": true
   },
   "outputs": [],
   "source": [
    "def compute_msd(trajectory, delta):\n",
    "    ''' For a given time interval, compute the displacements of the angle. For small time deltas,\n",
    "    there are many displacements in the trajectory. As the delta gets bigger, there are fewer\n",
    "    and fewer displacements.'''\n",
    "    number_measurements = len(trajectory) - delta\n",
    "    print('Computing mean of {} measurements'.format(number_measurements))\n",
    "    displacements = np.empty((number_measurements))\n",
    "    for time in range(number_measurements):\n",
    "        displacements[time] = trajectory[time + delta] - trajectory[time]\n",
    "    return np.mean(displacements**2), sc.stats.sem(displacements**2)\n"
   ]
  },
  {
   "cell_type": "code",
   "execution_count": 27,
   "metadata": {
    "collapsed": false
   },
   "outputs": [],
   "source": [
    "data = np.genfromtxt('../../md-data/butane-rotational-diffusion/md-data/Langevin-dynamics-10fs-recording/cccc.dat')"
   ]
  },
  {
   "cell_type": "code",
   "execution_count": 22,
   "metadata": {
    "collapsed": false
   },
   "outputs": [
    {
     "ename": "KeyboardInterrupt",
     "evalue": "",
     "output_type": "error",
     "traceback": [
      "\u001b[1;31m---------------------------------------------------------------------------\u001b[0m",
      "\u001b[1;31mKeyboardInterrupt\u001b[0m                         Traceback (most recent call last)",
      "\u001b[1;32m<ipython-input-22-66c944006275>\u001b[0m in \u001b[0;36m<module>\u001b[1;34m()\u001b[0m\n\u001b[0;32m      4\u001b[0m \u001b[0munwrapped_data\u001b[0m \u001b[1;33m=\u001b[0m \u001b[0mnp\u001b[0m\u001b[1;33m.\u001b[0m\u001b[0mcopy\u001b[0m\u001b[1;33m(\u001b[0m\u001b[0mdata\u001b[0m\u001b[1;33m)\u001b[0m\u001b[1;33m\u001b[0m\u001b[0m\n\u001b[0;32m      5\u001b[0m \u001b[1;32mfor\u001b[0m \u001b[0msubtraction\u001b[0m \u001b[1;32min\u001b[0m \u001b[0mflips\u001b[0m\u001b[1;33m:\u001b[0m\u001b[1;33m\u001b[0m\u001b[0m\n\u001b[1;32m----> 6\u001b[1;33m     \u001b[0munwrapped_data\u001b[0m\u001b[1;33m[\u001b[0m\u001b[0msubtraction\u001b[0m \u001b[1;33m+\u001b[0m \u001b[1;36m1\u001b[0m\u001b[1;33m:\u001b[0m\u001b[1;33m,\u001b[0m \u001b[1;36m1\u001b[0m\u001b[1;33m]\u001b[0m \u001b[1;33m-=\u001b[0m \u001b[1;36m360\u001b[0m\u001b[1;33m\u001b[0m\u001b[0m\n\u001b[0m\u001b[0;32m      7\u001b[0m \u001b[1;32mfor\u001b[0m \u001b[0maddition\u001b[0m \u001b[1;32min\u001b[0m \u001b[0mflops\u001b[0m\u001b[1;33m:\u001b[0m\u001b[1;33m\u001b[0m\u001b[0m\n\u001b[0;32m      8\u001b[0m     \u001b[0munwrapped_data\u001b[0m\u001b[1;33m[\u001b[0m\u001b[0maddition\u001b[0m \u001b[1;33m+\u001b[0m \u001b[1;36m1\u001b[0m\u001b[1;33m:\u001b[0m\u001b[1;33m,\u001b[0m \u001b[1;36m1\u001b[0m\u001b[1;33m]\u001b[0m \u001b[1;33m+=\u001b[0m \u001b[1;36m360\u001b[0m\u001b[1;33m\u001b[0m\u001b[0m\n",
      "\u001b[1;31mKeyboardInterrupt\u001b[0m: "
     ]
    }
   ],
   "source": [
    "distances = np.diff(data[:, 1])\n",
    "flips = np.where(distances > 100)[0] # Where the torsion goes from negative to positive, so we subtract 360 for displacement\n",
    "flops = np.where(distances < -100)[0] # Where the torsion goes from negative to positive, so we add 360 for displacement\n",
    "unwrapped_data = np.copy(data)\n",
    "for subtraction in flips: \n",
    "    unwrapped_data[subtraction + 1:, 1] -= 360\n",
    "for addition in flops: \n",
    "    unwrapped_data[addition + 1:, 1] += 360\n",
    "unwrapped_positions = unwrapped_data[:, 1]"
   ]
  },
  {
   "cell_type": "code",
   "execution_count": 28,
   "metadata": {
    "collapsed": false,
    "scrolled": true
   },
   "outputs": [],
   "source": [
    "delays = np.arange(10000, len(data) - 1, 10000)\n",
    "# MSDs = np.empty((len(delays)))\n",
    "# SEMs = np.empty((len(delays)))\n",
    "# for delay in delays:\n",
    "#     MSDs[np.where(delays==delay)[0]], SEMs[np.where(delays==delay)[0]] = compute_msd(unwrapped_positions, delay)"
   ]
  },
  {
   "cell_type": "code",
   "execution_count": 29,
   "metadata": {
    "collapsed": false
   },
   "outputs": [
    {
     "name": "stderr",
     "output_type": "stream",
     "text": [
      "/home/dslochower/anaconda3/lib/python3.5/site-packages/ipykernel/__main__.py:5: VisibleDeprecationWarning: using a non-integer number instead of an integer will result in an error in the future\n",
      "/home/dslochower/anaconda3/lib/python3.5/site-packages/ipykernel/__main__.py:6: VisibleDeprecationWarning: using a non-integer number instead of an integer will result in an error in the future\n"
     ]
    }
   ],
   "source": [
    "import pickle as pickle\n",
    "# results = np.concatenate((MSDs, SEMs))\n",
    "# np.save('cccc-original-MSDs-and-SEMs.pickle', results, allow_pickle=True)\n",
    "arrays = np.load('cccc-original-MSDs-and-SEMs.pickle.npy')\n",
    "MSDs = arrays[0:len(arrays)/2]\n",
    "SEMs = arrays[len(arrays)/2:]"
   ]
  },
  {
   "cell_type": "code",
   "execution_count": 38,
   "metadata": {
    "collapsed": false
   },
   "outputs": [],
   "source": [
    "times = delays * 10**-14"
   ]
  },
  {
   "cell_type": "code",
   "execution_count": 42,
   "metadata": {
    "collapsed": false
   },
   "outputs": [
    {
     "name": "stdout",
     "output_type": "stream",
     "text": [
      "5.14e+14 +/- 8.21e+13\n"
     ]
    }
   ],
   "source": [
    "slope, intercept, r_value, p_value, std_err = sc.stats.linregress(times, MSDs)\n",
    "print('{0:2.2e} +/- {1:2.2e}'.format(slope, std_err))\n",
    "slope, intercept, r_value, p_value, std_err = sc.stats.linregress(delays, MSDs)\n"
   ]
  },
  {
   "cell_type": "code",
   "execution_count": 58,
   "metadata": {
    "collapsed": false
   },
   "outputs": [
    {
     "data": {
      "image/png": "[encoded data removed]",
      "text/plain": [
       "<matplotlib.figure.Figure at 0x7f0867bbe240>"
      ]
     },
     "metadata": {},
     "output_type": "display_data"
    }
   ],
   "source": [
    "fig, ax1 = plt.subplots(1, 1, figsize=(8, 6))\n",
    "ax1.errorbar(delays, MSDs, yerr=100*SEMs, label='Data')\n",
    "# ax1.plot(delays, slope*delays + intercept, c='k', ls='--', label='Fit')\n",
    "ax1.set_ylabel(r'$\\langle \\theta(\\tau)^2 \\rangle$ (degrees$^2$)')\n",
    "ax1.set_xlabel(r'Time delay $\\tau$ (frames)')\n",
    "ax1.legend(loc=2)\n",
    "pretty_plot(fig)"
   ]
  },
  {
   "cell_type": "code",
   "execution_count": 9,
   "metadata": {
    "collapsed": false,
    "scrolled": true
   },
   "outputs": [
    {
     "name": "stdout",
     "output_type": "stream",
     "text": [
      "1\n",
      "Computing mean of 490000 measurements\n",
      "Computing mean of 390000 measurements\n",
      "Computing mean of 290000 measurements\n",
      "Computing mean of 190000 measurements\n",
      "Computing mean of 90000 measurements\n",
      "2\n",
      "Computing mean of 490000 measurements\n",
      "Computing mean of 390000 measurements\n",
      "Computing mean of 290000 measurements\n",
      "Computing mean of 190000 measurements\n",
      "Computing mean of 90000 measurements\n",
      "3\n",
      "Computing mean of 490000 measurements\n",
      "Computing mean of 390000 measurements\n",
      "Computing mean of 290000 measurements\n",
      "Computing mean of 190000 measurements\n",
      "Computing mean of 90000 measurements\n",
      "4\n",
      "Computing mean of 490000 measurements\n",
      "Computing mean of 390000 measurements\n",
      "Computing mean of 290000 measurements\n",
      "Computing mean of 190000 measurements\n",
      "Computing mean of 90000 measurements\n",
      "5\n",
      "Computing mean of 490000 measurements\n",
      "Computing mean of 390000 measurements\n",
      "Computing mean of 290000 measurements\n",
      "Computing mean of 190000 measurements\n",
      "Computing mean of 90000 measurements\n",
      "6\n",
      "Computing mean of 490000 measurements\n",
      "Computing mean of 390000 measurements\n",
      "Computing mean of 290000 measurements\n",
      "Computing mean of 190000 measurements\n",
      "Computing mean of 90000 measurements\n",
      "7\n",
      "Computing mean of 490000 measurements\n",
      "Computing mean of 390000 measurements\n",
      "Computing mean of 290000 measurements\n",
      "Computing mean of 190000 measurements\n",
      "Computing mean of 90000 measurements\n",
      "8\n",
      "Computing mean of 490000 measurements\n",
      "Computing mean of 390000 measurements\n",
      "Computing mean of 290000 measurements\n",
      "Computing mean of 190000 measurements\n",
      "Computing mean of 90000 measurements\n",
      "9\n",
      "Computing mean of 490000 measurements\n",
      "Computing mean of 390000 measurements\n",
      "Computing mean of 290000 measurements\n",
      "Computing mean of 190000 measurements\n",
      "Computing mean of 90000 measurements\n",
      "10\n",
      "Computing mean of 490000 measurements\n",
      "Computing mean of 390000 measurements\n",
      "Computing mean of 290000 measurements\n",
      "Computing mean of 190000 measurements\n",
      "Computing mean of 90000 measurements\n",
      "11\n",
      "Computing mean of 490000 measurements\n",
      "Computing mean of 390000 measurements\n",
      "Computing mean of 290000 measurements\n",
      "Computing mean of 190000 measurements\n",
      "Computing mean of 90000 measurements\n",
      "12\n",
      "Computing mean of 490000 measurements\n",
      "Computing mean of 390000 measurements\n",
      "Computing mean of 290000 measurements\n",
      "Computing mean of 190000 measurements\n",
      "Computing mean of 90000 measurements\n",
      "13\n",
      "Computing mean of 490000 measurements\n",
      "Computing mean of 390000 measurements\n",
      "Computing mean of 290000 measurements\n",
      "Computing mean of 190000 measurements\n",
      "Computing mean of 90000 measurements\n",
      "14\n",
      "Computing mean of 490000 measurements\n",
      "Computing mean of 390000 measurements\n",
      "Computing mean of 290000 measurements\n",
      "Computing mean of 190000 measurements\n",
      "Computing mean of 90000 measurements\n",
      "15\n",
      "Computing mean of 490000 measurements\n",
      "Computing mean of 390000 measurements\n",
      "Computing mean of 290000 measurements\n",
      "Computing mean of 190000 measurements\n",
      "Computing mean of 90000 measurements\n",
      "16\n",
      "Computing mean of 490000 measurements\n",
      "Computing mean of 390000 measurements\n",
      "Computing mean of 290000 measurements\n",
      "Computing mean of 190000 measurements\n",
      "Computing mean of 90000 measurements\n",
      "17\n",
      "Computing mean of 490000 measurements\n",
      "Computing mean of 390000 measurements\n",
      "Computing mean of 290000 measurements\n",
      "Computing mean of 190000 measurements\n",
      "Computing mean of 90000 measurements\n",
      "18\n",
      "Computing mean of 490000 measurements\n",
      "Computing mean of 390000 measurements\n",
      "Computing mean of 290000 measurements\n",
      "Computing mean of 190000 measurements\n",
      "Computing mean of 90000 measurements\n",
      "19\n",
      "Computing mean of 490000 measurements\n",
      "Computing mean of 390000 measurements\n",
      "Computing mean of 290000 measurements\n",
      "Computing mean of 190000 measurements\n",
      "Computing mean of 90000 measurements\n",
      "20\n",
      "Computing mean of 490000 measurements\n",
      "Computing mean of 390000 measurements\n",
      "Computing mean of 290000 measurements\n",
      "Computing mean of 190000 measurements\n",
      "Computing mean of 90000 measurements\n",
      "21\n",
      "Computing mean of 490000 measurements\n",
      "Computing mean of 390000 measurements\n",
      "Computing mean of 290000 measurements\n",
      "Computing mean of 190000 measurements\n",
      "Computing mean of 90000 measurements\n",
      "22\n",
      "Computing mean of 490000 measurements\n",
      "Computing mean of 390000 measurements\n",
      "Computing mean of 290000 measurements\n",
      "Computing mean of 190000 measurements\n",
      "Computing mean of 90000 measurements\n",
      "23\n",
      "Computing mean of 490000 measurements\n",
      "Computing mean of 390000 measurements\n",
      "Computing mean of 290000 measurements\n",
      "Computing mean of 190000 measurements\n",
      "Computing mean of 90000 measurements\n",
      "24\n",
      "Computing mean of 490000 measurements\n",
      "Computing mean of 390000 measurements\n",
      "Computing mean of 290000 measurements\n",
      "Computing mean of 190000 measurements\n",
      "Computing mean of 90000 measurements\n",
      "25\n",
      "Computing mean of 490000 measurements\n",
      "Computing mean of 390000 measurements\n",
      "Computing mean of 290000 measurements\n",
      "Computing mean of 190000 measurements\n",
      "Computing mean of 90000 measurements\n",
      "26\n",
      "Computing mean of 490000 measurements\n",
      "Computing mean of 390000 measurements\n",
      "Computing mean of 290000 measurements\n",
      "Computing mean of 190000 measurements\n",
      "Computing mean of 90000 measurements\n",
      "27\n",
      "Computing mean of 490000 measurements\n",
      "Computing mean of 390000 measurements\n",
      "Computing mean of 290000 measurements\n",
      "Computing mean of 190000 measurements\n",
      "Computing mean of 90000 measurements\n",
      "28\n",
      "Computing mean of 490000 measurements\n",
      "Computing mean of 390000 measurements\n",
      "Computing mean of 290000 measurements\n",
      "Computing mean of 190000 measurements\n",
      "Computing mean of 90000 measurements\n",
      "29\n",
      "Computing mean of 490000 measurements\n",
      "Computing mean of 390000 measurements\n",
      "Computing mean of 290000 measurements\n",
      "Computing mean of 190000 measurements\n",
      "Computing mean of 90000 measurements\n",
      "30\n",
      "Computing mean of 490000 measurements\n",
      "Computing mean of 390000 measurements\n",
      "Computing mean of 290000 measurements\n",
      "Computing mean of 190000 measurements\n",
      "Computing mean of 90000 measurements\n",
      "31\n",
      "Computing mean of 490000 measurements\n",
      "Computing mean of 390000 measurements\n",
      "Computing mean of 290000 measurements\n",
      "Computing mean of 190000 measurements\n",
      "Computing mean of 90000 measurements\n",
      "32\n",
      "Computing mean of 490000 measurements\n",
      "Computing mean of 390000 measurements\n",
      "Computing mean of 290000 measurements\n",
      "Computing mean of 190000 measurements\n",
      "Computing mean of 90000 measurements\n",
      "33\n",
      "Computing mean of 490000 measurements\n",
      "Computing mean of 390000 measurements\n",
      "Computing mean of 290000 measurements\n",
      "Computing mean of 190000 measurements\n",
      "Computing mean of 90000 measurements\n",
      "34\n",
      "Computing mean of 490000 measurements\n",
      "Computing mean of 390000 measurements\n",
      "Computing mean of 290000 measurements\n",
      "Computing mean of 190000 measurements\n",
      "Computing mean of 90000 measurements\n",
      "35\n",
      "Computing mean of 490000 measurements\n",
      "Computing mean of 390000 measurements\n",
      "Computing mean of 290000 measurements\n",
      "Computing mean of 190000 measurements\n",
      "Computing mean of 90000 measurements\n",
      "36\n",
      "Computing mean of 490000 measurements\n",
      "Computing mean of 390000 measurements\n",
      "Computing mean of 290000 measurements\n",
      "Computing mean of 190000 measurements\n",
      "Computing mean of 90000 measurements\n",
      "37\n",
      "Computing mean of 490000 measurements\n",
      "Computing mean of 390000 measurements\n",
      "Computing mean of 290000 measurements\n",
      "Computing mean of 190000 measurements\n",
      "Computing mean of 90000 measurements\n",
      "38\n",
      "Computing mean of 490000 measurements\n",
      "Computing mean of 390000 measurements\n",
      "Computing mean of 290000 measurements\n",
      "Computing mean of 190000 measurements\n",
      "Computing mean of 90000 measurements\n",
      "39\n",
      "Computing mean of 490000 measurements\n",
      "Computing mean of 390000 measurements\n",
      "Computing mean of 290000 measurements\n",
      "Computing mean of 190000 measurements\n",
      "Computing mean of 90000 measurements\n",
      "40\n",
      "Computing mean of 490000 measurements\n",
      "Computing mean of 390000 measurements\n",
      "Computing mean of 290000 measurements\n",
      "Computing mean of 190000 measurements\n",
      "Computing mean of 90000 measurements\n",
      "41\n",
      "Computing mean of 490000 measurements\n",
      "Computing mean of 390000 measurements\n",
      "Computing mean of 290000 measurements\n",
      "Computing mean of 190000 measurements\n",
      "Computing mean of 90000 measurements\n",
      "42\n",
      "Computing mean of 490000 measurements\n",
      "Computing mean of 390000 measurements\n",
      "Computing mean of 290000 measurements\n",
      "Computing mean of 190000 measurements\n",
      "Computing mean of 90000 measurements\n",
      "43\n",
      "Computing mean of 490000 measurements\n",
      "Computing mean of 390000 measurements\n",
      "Computing mean of 290000 measurements\n",
      "Computing mean of 190000 measurements\n",
      "Computing mean of 90000 measurements\n",
      "44\n",
      "Computing mean of 490000 measurements\n",
      "Computing mean of 390000 measurements\n",
      "Computing mean of 290000 measurements\n",
      "Computing mean of 190000 measurements\n",
      "Computing mean of 90000 measurements\n",
      "45\n",
      "Computing mean of 490000 measurements\n",
      "Computing mean of 390000 measurements\n",
      "Computing mean of 290000 measurements\n",
      "Computing mean of 190000 measurements\n",
      "Computing mean of 90000 measurements\n",
      "46\n",
      "Computing mean of 490000 measurements\n",
      "Computing mean of 390000 measurements\n",
      "Computing mean of 290000 measurements\n",
      "Computing mean of 190000 measurements\n",
      "Computing mean of 90000 measurements\n",
      "47\n",
      "Computing mean of 490000 measurements\n",
      "Computing mean of 390000 measurements\n",
      "Computing mean of 290000 measurements\n",
      "Computing mean of 190000 measurements\n",
      "Computing mean of 90000 measurements\n",
      "48\n",
      "Computing mean of 490000 measurements\n",
      "Computing mean of 390000 measurements\n",
      "Computing mean of 290000 measurements\n",
      "Computing mean of 190000 measurements\n",
      "Computing mean of 90000 measurements\n",
      "49\n",
      "Computing mean of 490000 measurements\n",
      "Computing mean of 390000 measurements\n",
      "Computing mean of 290000 measurements\n",
      "Computing mean of 190000 measurements\n",
      "Computing mean of 90000 measurements\n",
      "50\n",
      "Computing mean of 490000 measurements\n",
      "Computing mean of 390000 measurements\n",
      "Computing mean of 290000 measurements\n",
      "Computing mean of 190000 measurements\n",
      "Computing mean of 90000 measurements\n",
      "51\n",
      "Computing mean of 490000 measurements\n",
      "Computing mean of 390000 measurements\n",
      "Computing mean of 290000 measurements\n",
      "Computing mean of 190000 measurements\n",
      "Computing mean of 90000 measurements\n",
      "52\n",
      "Computing mean of 490000 measurements\n",
      "Computing mean of 390000 measurements\n",
      "Computing mean of 290000 measurements\n",
      "Computing mean of 190000 measurements\n",
      "Computing mean of 90000 measurements\n",
      "53\n",
      "Computing mean of 490000 measurements\n",
      "Computing mean of 390000 measurements\n",
      "Computing mean of 290000 measurements\n",
      "Computing mean of 190000 measurements\n",
      "Computing mean of 90000 measurements\n",
      "54\n",
      "Computing mean of 490000 measurements\n",
      "Computing mean of 390000 measurements\n",
      "Computing mean of 290000 measurements\n",
      "Computing mean of 190000 measurements\n",
      "Computing mean of 90000 measurements\n",
      "55\n",
      "Computing mean of 490000 measurements\n",
      "Computing mean of 390000 measurements\n",
      "Computing mean of 290000 measurements\n",
      "Computing mean of 190000 measurements\n",
      "Computing mean of 90000 measurements\n",
      "56\n",
      "Computing mean of 490000 measurements\n",
      "Computing mean of 390000 measurements\n",
      "Computing mean of 290000 measurements\n",
      "Computing mean of 190000 measurements\n",
      "Computing mean of 90000 measurements\n",
      "57\n",
      "Computing mean of 490000 measurements\n",
      "Computing mean of 390000 measurements\n",
      "Computing mean of 290000 measurements\n",
      "Computing mean of 190000 measurements\n",
      "Computing mean of 90000 measurements\n",
      "58\n",
      "Computing mean of 490000 measurements\n",
      "Computing mean of 390000 measurements\n",
      "Computing mean of 290000 measurements\n",
      "Computing mean of 190000 measurements\n",
      "Computing mean of 90000 measurements\n",
      "59\n",
      "Computing mean of 490000 measurements\n",
      "Computing mean of 390000 measurements\n",
      "Computing mean of 290000 measurements\n",
      "Computing mean of 190000 measurements\n",
      "Computing mean of 90000 measurements\n",
      "60\n",
      "Computing mean of 490000 measurements\n",
      "Computing mean of 390000 measurements\n",
      "Computing mean of 290000 measurements\n",
      "Computing mean of 190000 measurements\n",
      "Computing mean of 90000 measurements\n",
      "61\n",
      "Computing mean of 490000 measurements\n",
      "Computing mean of 390000 measurements\n",
      "Computing mean of 290000 measurements\n",
      "Computing mean of 190000 measurements\n",
      "Computing mean of 90000 measurements\n",
      "62\n",
      "Computing mean of 490000 measurements\n",
      "Computing mean of 390000 measurements\n",
      "Computing mean of 290000 measurements\n",
      "Computing mean of 190000 measurements\n",
      "Computing mean of 90000 measurements\n",
      "63\n",
      "Computing mean of 490000 measurements\n",
      "Computing mean of 390000 measurements\n",
      "Computing mean of 290000 measurements\n",
      "Computing mean of 190000 measurements\n",
      "Computing mean of 90000 measurements\n",
      "64\n",
      "Computing mean of 490000 measurements\n",
      "Computing mean of 390000 measurements\n",
      "Computing mean of 290000 measurements\n",
      "Computing mean of 190000 measurements\n",
      "Computing mean of 90000 measurements\n",
      "65\n",
      "Computing mean of 490000 measurements\n",
      "Computing mean of 390000 measurements\n",
      "Computing mean of 290000 measurements\n",
      "Computing mean of 190000 measurements\n",
      "Computing mean of 90000 measurements\n",
      "66\n",
      "Computing mean of 490000 measurements\n",
      "Computing mean of 390000 measurements\n",
      "Computing mean of 290000 measurements\n",
      "Computing mean of 190000 measurements\n",
      "Computing mean of 90000 measurements\n",
      "67\n",
      "Computing mean of 490000 measurements\n",
      "Computing mean of 390000 measurements\n",
      "Computing mean of 290000 measurements\n",
      "Computing mean of 190000 measurements\n",
      "Computing mean of 90000 measurements\n",
      "68\n",
      "Computing mean of 490000 measurements\n",
      "Computing mean of 390000 measurements\n",
      "Computing mean of 290000 measurements\n",
      "Computing mean of 190000 measurements\n",
      "Computing mean of 90000 measurements\n",
      "69\n",
      "Computing mean of 490000 measurements\n",
      "Computing mean of 390000 measurements\n",
      "Computing mean of 290000 measurements\n",
      "Computing mean of 190000 measurements\n",
      "Computing mean of 90000 measurements\n",
      "70\n",
      "Computing mean of 490000 measurements\n",
      "Computing mean of 390000 measurements\n",
      "Computing mean of 290000 measurements\n",
      "Computing mean of 190000 measurements\n",
      "Computing mean of 90000 measurements\n",
      "71\n",
      "Computing mean of 490000 measurements\n",
      "Computing mean of 390000 measurements\n",
      "Computing mean of 290000 measurements\n",
      "Computing mean of 190000 measurements\n",
      "Computing mean of 90000 measurements\n",
      "72\n",
      "Computing mean of 490000 measurements\n",
      "Computing mean of 390000 measurements\n",
      "Computing mean of 290000 measurements\n",
      "Computing mean of 190000 measurements\n",
      "Computing mean of 90000 measurements\n",
      "73\n",
      "Computing mean of 490000 measurements\n",
      "Computing mean of 390000 measurements\n",
      "Computing mean of 290000 measurements\n",
      "Computing mean of 190000 measurements\n",
      "Computing mean of 90000 measurements\n",
      "74\n",
      "Computing mean of 490000 measurements\n",
      "Computing mean of 390000 measurements\n",
      "Computing mean of 290000 measurements\n",
      "Computing mean of 190000 measurements\n",
      "Computing mean of 90000 measurements\n",
      "75\n",
      "Computing mean of 490000 measurements\n",
      "Computing mean of 390000 measurements\n",
      "Computing mean of 290000 measurements\n",
      "Computing mean of 190000 measurements\n",
      "Computing mean of 90000 measurements\n",
      "76\n",
      "Computing mean of 490000 measurements\n",
      "Computing mean of 390000 measurements\n",
      "Computing mean of 290000 measurements\n",
      "Computing mean of 190000 measurements\n",
      "Computing mean of 90000 measurements\n",
      "77\n",
      "Computing mean of 490000 measurements\n",
      "Computing mean of 390000 measurements\n",
      "Computing mean of 290000 measurements\n",
      "Computing mean of 190000 measurements\n",
      "Computing mean of 90000 measurements\n",
      "78\n",
      "Computing mean of 490000 measurements\n",
      "Computing mean of 390000 measurements\n",
      "Computing mean of 290000 measurements\n",
      "Computing mean of 190000 measurements\n",
      "Computing mean of 90000 measurements\n",
      "79\n",
      "Computing mean of 490000 measurements\n",
      "Computing mean of 390000 measurements\n",
      "Computing mean of 290000 measurements\n",
      "Computing mean of 190000 measurements\n",
      "Computing mean of 90000 measurements\n",
      "80\n",
      "Computing mean of 490000 measurements\n",
      "Computing mean of 390000 measurements\n",
      "Computing mean of 290000 measurements\n",
      "Computing mean of 190000 measurements\n",
      "Computing mean of 90000 measurements\n",
      "81\n",
      "Computing mean of 490000 measurements\n",
      "Computing mean of 390000 measurements\n",
      "Computing mean of 290000 measurements\n",
      "Computing mean of 190000 measurements\n",
      "Computing mean of 90000 measurements\n",
      "82\n",
      "Computing mean of 490000 measurements\n",
      "Computing mean of 390000 measurements\n",
      "Computing mean of 290000 measurements\n",
      "Computing mean of 190000 measurements\n",
      "Computing mean of 90000 measurements\n",
      "83\n",
      "Computing mean of 490000 measurements\n",
      "Computing mean of 390000 measurements\n",
      "Computing mean of 290000 measurements\n",
      "Computing mean of 190000 measurements\n",
      "Computing mean of 90000 measurements\n",
      "84\n",
      "Computing mean of 490000 measurements\n",
      "Computing mean of 390000 measurements\n",
      "Computing mean of 290000 measurements\n",
      "Computing mean of 190000 measurements\n",
      "Computing mean of 90000 measurements\n",
      "85\n",
      "Computing mean of 490000 measurements\n",
      "Computing mean of 390000 measurements\n",
      "Computing mean of 290000 measurements\n",
      "Computing mean of 190000 measurements\n",
      "Computing mean of 90000 measurements\n",
      "86\n",
      "Computing mean of 490000 measurements\n",
      "Computing mean of 390000 measurements\n",
      "Computing mean of 290000 measurements\n",
      "Computing mean of 190000 measurements\n",
      "Computing mean of 90000 measurements\n",
      "87\n",
      "Computing mean of 490000 measurements\n",
      "Computing mean of 390000 measurements\n",
      "Computing mean of 290000 measurements\n",
      "Computing mean of 190000 measurements\n",
      "Computing mean of 90000 measurements\n",
      "88\n",
      "Computing mean of 490000 measurements\n",
      "Computing mean of 390000 measurements\n",
      "Computing mean of 290000 measurements\n",
      "Computing mean of 190000 measurements\n",
      "Computing mean of 90000 measurements\n",
      "89\n",
      "Computing mean of 490000 measurements\n",
      "Computing mean of 390000 measurements\n",
      "Computing mean of 290000 measurements\n",
      "Computing mean of 190000 measurements\n",
      "Computing mean of 90000 measurements\n",
      "90\n",
      "Computing mean of 490000 measurements\n",
      "Computing mean of 390000 measurements\n",
      "Computing mean of 290000 measurements\n",
      "Computing mean of 190000 measurements\n",
      "Computing mean of 90000 measurements\n",
      "91\n",
      "Computing mean of 490000 measurements\n",
      "Computing mean of 390000 measurements\n",
      "Computing mean of 290000 measurements\n",
      "Computing mean of 190000 measurements\n",
      "Computing mean of 90000 measurements\n",
      "92\n",
      "Computing mean of 490000 measurements\n",
      "Computing mean of 390000 measurements\n",
      "Computing mean of 290000 measurements\n",
      "Computing mean of 190000 measurements\n",
      "Computing mean of 90000 measurements\n",
      "93\n",
      "Computing mean of 490000 measurements\n",
      "Computing mean of 390000 measurements\n",
      "Computing mean of 290000 measurements\n",
      "Computing mean of 190000 measurements\n",
      "Computing mean of 90000 measurements\n",
      "94\n",
      "Computing mean of 490000 measurements\n",
      "Computing mean of 390000 measurements\n",
      "Computing mean of 290000 measurements\n",
      "Computing mean of 190000 measurements\n",
      "Computing mean of 90000 measurements\n",
      "95\n",
      "Computing mean of 490000 measurements\n",
      "Computing mean of 390000 measurements\n",
      "Computing mean of 290000 measurements\n",
      "Computing mean of 190000 measurements\n",
      "Computing mean of 90000 measurements\n",
      "96\n",
      "Computing mean of 490000 measurements\n",
      "Computing mean of 390000 measurements\n",
      "Computing mean of 290000 measurements\n",
      "Computing mean of 190000 measurements\n",
      "Computing mean of 90000 measurements\n",
      "97\n",
      "Computing mean of 490000 measurements\n",
      "Computing mean of 390000 measurements\n",
      "Computing mean of 290000 measurements\n",
      "Computing mean of 190000 measurements\n",
      "Computing mean of 90000 measurements\n",
      "98\n",
      "Computing mean of 490000 measurements\n",
      "Computing mean of 390000 measurements\n",
      "Computing mean of 290000 measurements\n",
      "Computing mean of 190000 measurements\n",
      "Computing mean of 90000 measurements\n",
      "99\n",
      "Computing mean of 490000 measurements\n",
      "Computing mean of 390000 measurements\n",
      "Computing mean of 290000 measurements\n",
      "Computing mean of 190000 measurements\n",
      "Computing mean of 90000 measurements\n"
     ]
    }
   ],
   "source": [
    "runs = range(1, 100)\n",
    "prefix = '/home/dslochower/data/projects/nonequilibrium/'\n",
    "squared_displacement = np.empty((len(runs)))\n",
    "end_points = np.empty((len(runs)))\n",
    "end_positions = 250000\n",
    "\n",
    "slopes = np.empty((len(runs)))\n",
    "sems = np.empty((len(runs)))\n",
    "# fig, ax1 = plt.subplots(1, 1, figsize=(8, 6))\n",
    "\n",
    "\n",
    "for run in runs:\n",
    "    print(run)\n",
    "    try: \n",
    "        os.chdir(prefix + 'md-data//butane-rotational-diffusion/entropy-md-data/'+str(run))\n",
    "        datum = np.genfromtxt('cccc.dat')\n",
    "        distances = np.diff(datum[:, 1])\n",
    "        flips = np.where(distances > 100)[0] # Where the torsion goes from negative to positive, so we subtract 360 for displacement\n",
    "        flops = np.where(distances < -100)[0] # Where the torsion goes from negative to positive, so we add 360 for displacement\n",
    "        unwrapped_datum = np.copy(datum)\n",
    "        for subtraction in flips: \n",
    "            unwrapped_datum[subtraction + 1:, 1] -= 360\n",
    "        for addition in flops: \n",
    "            unwrapped_datum[addition + 1:, 1] += 360\n",
    "        unwrapped_positions = unwrapped_datum[:, 1]\n",
    "        \n",
    "        \n",
    "        \n",
    "        \n",
    "        delays = np.arange(10000, len(unwrapped_positions) - 1, 100000)\n",
    "        MSDs = np.empty((len(delays)))\n",
    "        SEMs = np.empty((len(delays)))\n",
    "        for delay in delays:\n",
    "            MSDs[np.where(delays==delay)[0]], SEMs[np.where(delays==delay)[0]] = compute_msd(unwrapped_positions, delay)\n",
    "            \n",
    "        # ax1.plot(delays, MSDs, alpha=0.5)\n",
    "        times = delays * 10**-14\n",
    "        slope, intercept, r_value, p_value, std_err = sc.stats.linregress(times, MSDs)\n",
    "        slopes[run -1] = slope\n",
    "        sems[run - 1] = std_err\n",
    "        \n",
    "        # squared_displacement[run - 1] = (unwrapped_positions[end_positions] - unwrapped_positions[0])**2 / ((end_positions / 500000)*5 * 10**-9)\n",
    "        # end_points[run - 1] = unwrapped_positions[-1]\n",
    "        os.chdir(prefix + 'md-data//butane-rotational-diffusion/entropy-md-data/')\n",
    "    except:\n",
    "        squared_displacement[run - 1] = np.nan\n",
    "        end_points[run - 1] = np.nan\n",
    "    # gc.collect()\n",
    "# ax1.set_ylabel(r'$\\langle \\theta(\\tau)^2 \\rangle$ (degrees$^2$)')\n",
    "# ax1.set_xlabel(r'Time delay $\\tau$ (frames)')\n",
    "# ax1.legend(loc=2)\n",
    "# pretty_plot(fig)\n"
   ]
  },
  {
   "cell_type": "code",
   "execution_count": 10,
   "metadata": {
    "collapsed": false
   },
   "outputs": [
    {
     "data": {
      "text/plain": [
       "array([  1.54500791e+15,   4.99876479e+15,   9.54124086e+14,\n",
       "         2.63515118e+15,   3.38319640e+15,   4.30918005e+15,\n",
       "         1.38372143e+15,   2.64308797e+14,   6.92749804e+15,\n",
       "         5.48426382e+15,   1.18591562e+13,   4.41957575e+14,\n",
       "         7.53820158e+14,   8.02041005e+15,   3.26841760e+15,\n",
       "         8.59998167e+14,   2.41440577e+15,   1.54322452e+14,\n",
       "         4.44583403e+15,   1.01840271e+15,   1.62140017e+15,\n",
       "         4.63185492e+15,   8.62451133e+15,   3.03380989e+15,\n",
       "         1.24333787e+16,   1.34595538e+15,   2.34356779e+15,\n",
       "         1.73282436e+14,   9.44645137e+14,   5.64353847e+15,\n",
       "         1.89327868e+14,   6.05515255e+15,   1.27591895e+15,\n",
       "         7.55985479e+14,   5.21834949e+15,   5.37407872e+15,\n",
       "         4.24424183e+14,   1.50250807e+16,   5.19350387e+14,\n",
       "         3.46554357e+13,   1.58834697e+14,   6.35753209e+15,\n",
       "         2.60195356e+15,   4.64025366e+15,   7.83357924e+13,\n",
       "         7.56051067e+15,   4.26715295e+14,   2.37856628e+15,\n",
       "         2.43536937e+14,   1.26215739e+16,   6.89240182e+15,\n",
       "         2.53335829e+14,   7.37707803e+14,   7.68928906e+14,\n",
       "        -3.30115373e+13,   1.73813449e+16,   4.85719211e+14,\n",
       "         2.12755071e+16,   3.54950776e+15,  -2.49460201e+13,\n",
       "         2.28605917e+14,   1.20495387e+15,   1.49946309e+15,\n",
       "         4.01528814e+14,   8.50413389e+12,   3.51702332e+14,\n",
       "         1.96627663e+15,   2.61847548e+16,   1.45466947e+15,\n",
       "         2.68672522e+15,   4.82130716e+13,   1.13999187e+16,\n",
       "         5.80781145e+15,   3.83696448e+14,  -6.03113675e+12,\n",
       "         1.88708897e+15,   2.67088016e+14,   4.49023864e+14,\n",
       "         1.77436950e+16,   9.98163121e+12,   1.13803230e+15,\n",
       "         1.68002903e+14,   4.91577859e+14,   1.01632285e+16,\n",
       "         1.15122390e+16,   1.92017455e+14,   3.99327996e+15,\n",
       "         4.81462611e+14,   2.03961114e+15,   6.94166608e+15,\n",
       "         3.38801159e+14,   6.24611842e+14,   9.15025790e+14,\n",
       "         1.83180979e+15,   4.35224277e+14,   2.80479260e+15,\n",
       "         1.51608102e+14,   2.33185191e+15,   1.29000033e+16])"
      ]
     },
     "execution_count": 10,
     "metadata": {},
     "output_type": "execute_result"
    }
   ],
   "source": [
    "slopes"
   ]
  },
  {
   "cell_type": "code",
   "execution_count": 13,
   "metadata": {
    "collapsed": false
   },
   "outputs": [
    {
     "name": "stdout",
     "output_type": "stream",
     "text": [
      "3.54e+15 +/- 7.88e+14\n"
     ]
    }
   ],
   "source": [
    "print('{0:2.2e} +/- {1:2.2e}'.format(np.mean(slopes), np.mean(sems)))"
   ]
  },
  {
   "cell_type": "code",
   "execution_count": null,
   "metadata": {
    "collapsed": false,
    "scrolled": true
   },
   "outputs": [],
   "source": [
    "MSD = np.mean(squared_displacement[~np.isnan(squared_displacement)])\n",
    "SEM = sc.stats.sem(squared_displacement[~np.isnan(squared_displacement)])\n",
    "print('{0:2.2e} +/- {1:2.2e}'.format(MSD, SEM))"
   ]
  },
  {
   "cell_type": "code",
   "execution_count": null,
   "metadata": {
    "collapsed": false
   },
   "outputs": [],
   "source": [
    "end_points"
   ]
  },
  {
   "cell_type": "code",
   "execution_count": 9,
   "metadata": {
    "collapsed": false
   },
   "outputs": [
    {
     "data": {
      "text/plain": [
       "array([  0.00000000e+000,   0.00000000e+000,   0.00000000e+000,\n",
       "         0.00000000e+000,   0.00000000e+000,   0.00000000e+000,\n",
       "         0.00000000e+000,               inf,   0.00000000e+000,\n",
       "         0.00000000e+000,   0.00000000e+000,   0.00000000e+000,\n",
       "         0.00000000e+000,               inf,   0.00000000e+000,\n",
       "         0.00000000e+000,               inf,   0.00000000e+000,\n",
       "         0.00000000e+000,   0.00000000e+000,   0.00000000e+000,\n",
       "         0.00000000e+000,   0.00000000e+000,   0.00000000e+000,\n",
       "         0.00000000e+000,   1.37995447e+269,   0.00000000e+000,\n",
       "         0.00000000e+000,   0.00000000e+000,   0.00000000e+000,\n",
       "         0.00000000e+000,   0.00000000e+000,   0.00000000e+000,\n",
       "         0.00000000e+000,   0.00000000e+000,   0.00000000e+000,\n",
       "         0.00000000e+000,   0.00000000e+000,   0.00000000e+000,\n",
       "         0.00000000e+000,   3.33316885e-058,   0.00000000e+000,\n",
       "         0.00000000e+000,               inf,   0.00000000e+000,\n",
       "         0.00000000e+000,   0.00000000e+000,   0.00000000e+000,\n",
       "         0.00000000e+000,   9.27882785e-083,   0.00000000e+000,\n",
       "         0.00000000e+000,   0.00000000e+000,   0.00000000e+000,\n",
       "         0.00000000e+000,   0.00000000e+000,   0.00000000e+000,\n",
       "         0.00000000e+000,   0.00000000e+000,   0.00000000e+000,\n",
       "         0.00000000e+000,   0.00000000e+000,   0.00000000e+000,\n",
       "         0.00000000e+000,   0.00000000e+000,   0.00000000e+000,\n",
       "         0.00000000e+000,   0.00000000e+000,   0.00000000e+000,\n",
       "         0.00000000e+000,   0.00000000e+000,   0.00000000e+000,\n",
       "         0.00000000e+000,   0.00000000e+000,   0.00000000e+000,\n",
       "         0.00000000e+000,   3.33316885e-058,   0.00000000e+000,\n",
       "         0.00000000e+000,               inf,   0.00000000e+000,\n",
       "         0.00000000e+000,   0.00000000e+000,   0.00000000e+000,\n",
       "         0.00000000e+000,   9.27882785e-083,   0.00000000e+000,\n",
       "         0.00000000e+000,   0.00000000e+000,   0.00000000e+000,\n",
       "         0.00000000e+000,   0.00000000e+000,   0.00000000e+000,\n",
       "         0.00000000e+000,   0.00000000e+000,   0.00000000e+000,\n",
       "         0.00000000e+000,   0.00000000e+000,   0.00000000e+000])"
      ]
     },
     "execution_count": 9,
     "metadata": {},
     "output_type": "execute_result"
    }
   ],
   "source": [
    "end_points**2"
   ]
  },
  {
   "cell_type": "code",
   "execution_count": 63,
   "metadata": {
    "collapsed": false
   },
   "outputs": [
    {
     "ename": "AttributeError",
     "evalue": "'Figure' object has no attribute 'add_subplots'",
     "output_type": "error",
     "traceback": [
      "\u001b[1;31m---------------------------------------------------------------------------\u001b[0m",
      "\u001b[1;31mAttributeError\u001b[0m                            Traceback (most recent call last)",
      "\u001b[1;32m<ipython-input-63-214187de8f01>\u001b[0m in \u001b[0;36m<module>\u001b[1;34m()\u001b[0m\n\u001b[1;32m----> 1\u001b[1;33m \u001b[0mfig\u001b[0m\u001b[1;33m,\u001b[0m \u001b[0max1\u001b[0m \u001b[1;33m=\u001b[0m \u001b[0mfig\u001b[0m\u001b[1;33m.\u001b[0m\u001b[0madd_subplots\u001b[0m\u001b[1;33m(\u001b[0m\u001b[1;36m111\u001b[0m\u001b[1;33m)\u001b[0m\u001b[1;33m\u001b[0m\u001b[0m\n\u001b[0m\u001b[0;32m      2\u001b[0m \u001b[0mplt\u001b[0m\u001b[1;33m.\u001b[0m\u001b[0mhist\u001b[0m\u001b[1;33m(\u001b[0m\u001b[0mend_points\u001b[0m\u001b[1;33m)\u001b[0m\u001b[1;33m\u001b[0m\u001b[0m\n\u001b[0;32m      3\u001b[0m \u001b[0mpretty_plot\u001b[0m\u001b[1;33m(\u001b[0m\u001b[0mfig\u001b[0m\u001b[1;33m)\u001b[0m\u001b[1;33m\u001b[0m\u001b[0m\n",
      "\u001b[1;31mAttributeError\u001b[0m: 'Figure' object has no attribute 'add_subplots'"
     ]
    }
   ],
   "source": [
    "fig, ax1 = fig.add_subplots(111)\n",
    "plt.hist(end_points)\n",
    "pretty_plot(fig)"
   ]
  },
  {
   "cell_type": "code",
   "execution_count": 55,
   "metadata": {
    "collapsed": false
   },
   "outputs": [
    {
     "name": "stdout",
     "output_type": "stream",
     "text": [
      "nan\n"
     ]
    }
   ],
   "source": [
    "print(np.nan)"
   ]
  },
  {
   "cell_type": "code",
   "execution_count": 56,
   "metadata": {
    "collapsed": true
   },
   "outputs": [],
   "source": [
    "tmp = np.array([0, 1, np.nan, 3, 4])"
   ]
  },
  {
   "cell_type": "code",
   "execution_count": 58,
   "metadata": {
    "collapsed": false
   },
   "outputs": [
    {
     "name": "stdout",
     "output_type": "stream",
     "text": [
      "[  0.   1.  nan   3.   4.]\n"
     ]
    }
   ],
   "source": [
    "print(tmp)"
   ]
  },
  {
   "cell_type": "code",
   "execution_count": 59,
   "metadata": {
    "collapsed": false
   },
   "outputs": [
    {
     "data": {
      "text/plain": [
       "nan"
      ]
     },
     "execution_count": 59,
     "metadata": {},
     "output_type": "execute_result"
    }
   ],
   "source": [
    "np.mean(tmp)"
   ]
  },
  {
   "cell_type": "code",
   "execution_count": 61,
   "metadata": {
    "collapsed": false
   },
   "outputs": [
    {
     "data": {
      "text/plain": [
       "0.80000000000000004"
      ]
     },
     "execution_count": 61,
     "metadata": {},
     "output_type": "execute_result"
    }
   ],
   "source": [
    "np.mean(~np.isnan(tmp))"
   ]
  },
  {
   "cell_type": "code",
   "execution_count": 64,
   "metadata": {
    "collapsed": false
   },
   "outputs": [
    {
     "data": {
      "text/plain": [
       "array([False, False, False, False,  True, False, False, False,  True,\n",
       "       False, False, False, False, False, False, False, False,  True,\n",
       "       False, False, False, False, False,  True, False,  True, False,\n",
       "        True, False,  True, False,  True, False,  True, False,  True,\n",
       "       False,  True, False,  True, False,  True, False,  True, False,\n",
       "        True, False,  True, False,  True, False,  True, False,  True,\n",
       "       False,  True, False,  True, False,  True, False,  True, False,\n",
       "        True, False,  True,  True, False, False, False,  True, False,\n",
       "       False, False,  True, False, False, False,  True, False,  True,\n",
       "       False, False, False, False, False, False, False, False, False,\n",
       "       False, False, False, False, False, False, False, False, False], dtype=bool)"
      ]
     },
     "execution_count": 64,
     "metadata": {},
     "output_type": "execute_result"
    }
   ],
   "source": [
    "np.isnan(end_points)"
   ]
  },
  {
   "cell_type": "code",
   "execution_count": null,
   "metadata": {
    "collapsed": true
   },
   "outputs": [],
   "source": []
  },
  {
   "cell_type": "code",
   "execution_count": null,
   "metadata": {
    "collapsed": true
   },
   "outputs": [],
   "source": [
    "    \"When plotting $\\\\langle \\\\theta(\\\\tau)^2 \\\\rangle$, the slope of the plots (on the left) should be $2D$ yet cleary they are not linear. It's typical to take the middle 80% of the data to calculate the slope, because the statistics are nosiy when the time dela is a very large part or very small part of the trajectory.\"\n",
    "\n",
    "    \n",
    "        \"ten_percent = 0.1*len(delays)\\n\",\n",
    "    \"ninety_percent = 0.9*len(delays)\\n\",\n",
    "    \"slope, intercept, r_value, p_value, std_err = stats.linregress(delays[ten_percent:ninety_percent]*10**-14,\\n\",\n",
    "    \"                                                               MSDs[ten_percent:ninety_percent])\\n\"\n"
   ]
  },
  {
   "cell_type": "code",
   "execution_count": null,
   "metadata": {
    "collapsed": true
   },
   "outputs": [],
   "source": [
    "    \"# Femtosecond is 10**-15\\n\",\n",
    "    \"# Each frame is 10 fs = 10**-14\\n\",\n",
    "    \"fig, (ax1, ax2) = plt.subplots(1, 2, figsize=(18, 6))\\n\",\n",
    "    \"fig.subplots_adjust(wspace=0.2)\\n\",\n",
    "    \"ax1.errorbar(delays*10**-14, MSDs, yerr=SEMs)\\n\",\n",
    "    \"ax1.plot(delays[ten_percent:ninety_percent]*10**-14, MSDs[ten_percent:ninety_percent], c='r', label='Data used for fit')\\n\",\n",
    "    \"ax1.set_ylabel(r'$\\\\langle \\\\theta(\\\\tau)^2 \\\\rangle$ (degrees$^2$)')\\n\",\n",
    "    \"ax1.set_xlabel(r'Time delay $\\\\tau$ (seconds)')\\n\",\n",
    "    \"ax1.legend()\\n\",\n",
    "    \"\\n\",\n",
    "    \"ax2.errorbar(delays*10**-14, MSDs, yerr=SEMs)\\n\",\n",
    "    \"ax2.plot(delays[ten_percent:ninety_percent]*10**-14, slope*delays[ten_percent:ninety_percent]*10**-14+intercept, c='g', ls='-', label='Linear fit')\\n\",\n",
    "    \"ax2.plot(delays[0:ten_percent]*10**-14, slope*delays[0:ten_percent]*10**-14+intercept, c='g', ls='--')\\n\",\n",
    "    \"ax2.plot(delays[ninety_percent:]*10**-14, slope*delays[ninety_percent:]*10**-14+intercept, c='g', ls='--')\\n\",\n",
    "    \"ax2.set_ylabel(r'$\\\\langle \\\\theta(\\\\tau)^2 \\\\rangle$ (degrees$^2$)')\\n\",\n",
    "    \"ax2.set_xlabel(r'Time delay $\\\\tau$ (seconds)')\\n\",\n",
    "    \"ax2.ticklabel_format(style='sci', axis='both', scilimits=(0,0))\\n\",\n",
    "    \"ax2.xaxis.major.formatter._useMathText = True\\n\",\n",
    "    \"ax2.legend()\\n\"\n"
   ]
  },
  {
   "cell_type": "code",
   "execution_count": 3,
   "metadata": {
    "collapsed": false
   },
   "outputs": [
    {
     "ename": "NameError",
     "evalue": "name 'slope' is not defined",
     "output_type": "error",
     "traceback": [
      "\u001b[1;31m---------------------------------------------------------------------------\u001b[0m",
      "\u001b[1;31mNameError\u001b[0m                                 Traceback (most recent call last)",
      "\u001b[1;32m<ipython-input-3-820ccd58ccde>\u001b[0m in \u001b[0;36m<module>\u001b[1;34m()\u001b[0m\n\u001b[1;32m----> 1\u001b[1;33m \u001b[0mprint\u001b[0m\u001b[1;33m(\u001b[0m\u001b[0mslope\u001b[0m\u001b[1;33m)\u001b[0m\u001b[1;33m\u001b[0m\u001b[0m\n\u001b[0m",
      "\u001b[1;31mNameError\u001b[0m: name 'slope' is not defined"
     ]
    }
   ],
   "source": [
    "print(slope)\n",
    "print(slope/2)"
   ]
  },
  {
   "cell_type": "code",
   "execution_count": 8,
   "metadata": {
    "collapsed": false,
    "scrolled": true
   },
   "outputs": [
    {
     "name": "stdout",
     "output_type": "stream",
     "text": [
      "1\n",
      "2\n",
      "3\n",
      "4\n",
      "5\n",
      "6\n",
      "7\n",
      "8\n",
      "9\n",
      "10\n",
      "11\n",
      "12\n",
      "13\n",
      "14\n",
      "15\n",
      "16\n",
      "17\n",
      "18\n",
      "19\n",
      "20\n",
      "21\n",
      "22\n",
      "23\n",
      "24\n",
      "25\n",
      "26\n",
      "27\n",
      "28\n",
      "29\n",
      "30\n",
      "31\n",
      "32\n",
      "33\n",
      "34\n",
      "35\n",
      "36\n",
      "37\n",
      "38\n",
      "39\n",
      "40\n",
      "41\n",
      "42\n",
      "43\n",
      "44\n",
      "45\n",
      "46\n",
      "47\n",
      "48\n",
      "49\n",
      "50\n",
      "51\n",
      "52\n",
      "53\n",
      "54\n",
      "55\n",
      "56\n",
      "57\n",
      "58\n",
      "59\n",
      "60\n",
      "61\n",
      "62\n",
      "63\n",
      "64\n",
      "65\n",
      "66\n",
      "67\n",
      "68\n",
      "69\n",
      "70\n",
      "71\n",
      "72\n",
      "73\n",
      "74\n",
      "75\n",
      "76\n",
      "77\n",
      "78\n",
      "79\n",
      "80\n",
      "81\n",
      "82\n",
      "83\n",
      "84\n",
      "85\n",
      "86\n",
      "87\n",
      "88\n",
      "89\n",
      "90\n",
      "91\n",
      "92\n",
      "93\n",
      "94\n",
      "95\n",
      "96\n",
      "97\n",
      "98\n",
      "99\n"
     ]
    }
   ],
   "source": [
    "runs = range(1, 100)\n",
    "prefix = '/home/dslochower/projects/nonequilibrium/md-data/butane-rotational-diffusion/entropy-md-data/'\n",
    "squared_displacement = np.empty((len(runs)))\n",
    "end_points = np.empty((len(runs)))\n",
    "end_positions = 250000\n",
    "\n",
    "for run in runs:\n",
    "    print(run)\n",
    "    try: \n",
    "        os.chdir(prefix + str(run))\n",
    "        datum = np.genfromtxt('cccc.dat')\n",
    "        distances = np.diff(datum[:, 1])\n",
    "        flips = np.where(distances > 100)[0] # Where the torsion goes from negative to positive, so we subtract 360 for displacement\n",
    "        flops = np.where(distances < -100)[0] # Where the torsion goes from negative to positive, so we add 360 for displacement\n",
    "        unwrapped_datum = np.copy(datum)\n",
    "        for subtraction in flips: \n",
    "            unwrapped_datum[subtraction + 1:, 1] -= 360\n",
    "        for addition in flops: \n",
    "            unwrapped_datum[addition + 1:, 1] += 360\n",
    "        unwrapped_positions = unwrapped_datum[:, 1]\n",
    "        # ax1.plot(unwrapped_positions, alpha=0.5)\n",
    "        # ax2.plot(autocorr(unwrapped_positions), alpha=0.5)\n",
    "        # degrees**2 per 5 ns\n",
    "        squared_displacement[run - 1] = (unwrapped_positions[end_positions] - unwrapped_positions[0])**2 / ((end_positions / 500000)*5 * 10**-9)\n",
    "        end_points[run - 1] = unwrapped_positions[-1]\n",
    "        os.chdir(prefix)\n",
    "    except:\n",
    "        squared_displacement[run - 1] = np.nan\n",
    "        end_points[run - 1] = np.nan\n",
    "    # gc.collect()\n",
    "# ax1.set_ylabel(r'$\\\\theta$ (degrees)')\n",
    "# ax1.set_xlabel(r'Time (frames)')\n",
    "# ax2.set_xlabel(r'Time (frames)')\n",
    "# ax2.set_ylabel('Autocorrelation')\n"
   ]
  },
  {
   "cell_type": "code",
   "execution_count": 9,
   "metadata": {
    "collapsed": false
   },
   "outputs": [
    {
     "name": "stdout",
     "output_type": "stream",
     "text": [
      "3.29e+15 +/- 4.53e+14\n"
     ]
    }
   ],
   "source": [
    "MSD = np.mean(squared_displacement[~np.isnan(squared_displacement)])\n",
    "SEM = sc.stats.sem(squared_displacement[~np.isnan(squared_displacement)])\n",
    "print('{0:2.2e} +/- {1:2.2e}'.format(MSD, SEM))"
   ]
  },
  {
   "cell_type": "code",
   "execution_count": null,
   "metadata": {
    "collapsed": true
   },
   "outputs": [],
   "source": []
  },
  {
   "cell_type": "markdown",
   "metadata": {},
   "source": [
    "# Perhaps I can extract and save a valid jupyter notebook file from `diffusion` around line 183128"
   ]
  },
  {
   "cell_type": "code",
   "execution_count": null,
   "metadata": {
    "collapsed": true
   },
   "outputs": [],
   "source": [
    "diffusion-183273-    \"We have $5.4 \\\\times 10^{13}$ (degrees$^2$/second) = $2D$, so D = $2.7 \\\\times 10^{13}$ (degrees$^2$/second). This is not that much smaller than `C_intrasurface`!\\n\",\n",
    "diffusion-183274-    \"\\n\",\n",
    "diffusion:183275:    \"From the other notebook, we determined the probability to go left (or right) into another bin (6 degrees) in 10 fs is 0.2143 (0.5446 to stay in the same bin). Thus, we wrote:\\n\",\n",
    "diffusion-183276-    \"$$\\n\",\n",
    "diffusion-183277-    \"\\\\Delta P_i = -2C \\\\Delta t\\n\",\n",
    "diffusion-183278-    \"(1 - 0.5446) = -2C(1 \\\\times 10^{-14} \\\\text{second})\\n\",\n",
    "diffusion-183279-    \"C = 2.28 \\\\times 10^{13} \\\\text{second}^{-1}\\n\",\n",
    "diffusion-183280-    \"$$\\n\",\n",
    "--\n",
    "diffusion-183285-    \"C &= 2.28 \\\\times 10^{13}  \\\\cdot \\\\text{second}^{-1} \\\\times \\\\text{6 degrees} \\\\quad \\\\text{and, so} \\\\\\\\\\n\",\n",
    "diffusion-183286-    \"C_\\\\text{intrasurface} &= 3.8 \\\\times 10^{12} \\\\text{degrees} \\\\cdot \\\\text{second}^{-1}\\n\",\n",
    "diffusion-183287-    \"\\\\end{align}\\n\",\n",
    "diffusion-183288-    \"$$\\n\",\n",
    "diffusion-183289-    \"\\n\",\n",
    "diffusion:183290:    \"Thus, $D =  2.7 \\\\times 10^{13}$ (degrees$^2$/second) and $C_\\\\text{intrasurface} = 3.8 \\\\times 10^{12} \\\\text{degrees} \\\\cdot \\\\text{second}^{-1}$. Not sure about units.\"\n"
   ]
  }
 ],
 "metadata": {
  "anaconda-cloud": {},
  "kernelspec": {
   "display_name": "Python [Root]",
   "language": "python",
   "name": "Python [Root]"
  },
  "language_info": {
   "codemirror_mode": {
    "name": "ipython",
    "version": 3
   },
   "file_extension": ".py",
   "mimetype": "text/x-python",
   "name": "python",
   "nbconvert_exporter": "python",
   "pygments_lexer": "ipython3",
   "version": "3.5.1"
  }
 },
 "nbformat": 4,
 "nbformat_minor": 0
}
