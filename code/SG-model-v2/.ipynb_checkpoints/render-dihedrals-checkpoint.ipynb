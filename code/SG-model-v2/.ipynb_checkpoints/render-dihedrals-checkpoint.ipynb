{
 "cells": [
  {
   "cell_type": "markdown",
   "metadata": {},
   "source": [
    "# Ideas\n",
    "- Align `latex` picture and text using `raisebox`\n",
    "- For phi and psi and omega, build the angle with a glycine on either side, this would also require specifiying which residue the atoms belong to. LUckily, this information is in the perl script already.\n",
    "- Call `latex` automatically with `rubber --clean foo.tex`.\n",
    "- Use `openeye` python toolkit to render these angles, mayb.e"
   ]
  },
  {
   "cell_type": "code",
   "execution_count": 144,
   "metadata": {
    "collapsed": true
   },
   "outputs": [],
   "source": [
    "import pandas as pd\n",
    "import subprocess as sp\n",
    "import os as os"
   ]
  },
  {
   "cell_type": "code",
   "execution_count": 160,
   "metadata": {
    "collapsed": true
   },
   "outputs": [],
   "source": [
    "dihedrals = pd.DataFrame()"
   ]
  },
  {
   "cell_type": "code",
   "execution_count": 161,
   "metadata": {
    "collapsed": false
   },
   "outputs": [],
   "source": [
    "dihedrals = pd.read_csv('dihedlist.dat', sep='\\s+', header=None, names=['Res', 'Angle', '1', '2', '3', '4'])"
   ]
  },
  {
   "cell_type": "code",
   "execution_count": 162,
   "metadata": {
    "collapsed": false
   },
   "outputs": [],
   "source": [
    "d = {'CYS': 'C', 'ASP': 'D', 'SER': 'S', 'GLN': 'Q', 'LYS': 'K',\n",
    "     'ILE': 'I', 'PRO': 'P', 'THR': 'T', 'PHE': 'F', 'ASN': 'N', \n",
    "     'GLY': 'G', 'HIS': 'H', 'LEU': 'L', 'ARG': 'R', 'TRP': 'W', \n",
    "     'ALA': 'A', 'VAL':'V', 'GLU': 'E', 'TYR': 'Y', 'MET': 'M'}"
   ]
  },
  {
   "cell_type": "code",
   "execution_count": 165,
   "metadata": {
    "collapsed": false
   },
   "outputs": [],
   "source": [
    "def write_input(atom_one, atom_two, atom_three, atom_four, residue, label):\n",
    "    template ='''\n",
    "from BuildStructure import placePeptide\n",
    "from chimera import runCommand as rc\n",
    "aa = \"{0}\"\n",
    "\n",
    "# Build a sequence\n",
    "placePeptide(aa, [(-50, 70)] * len(aa), model=\"peptide\")\n",
    "# Add hydrogens automatically\n",
    "rc(\"addh\")\n",
    "# Align so the CA-CB bond is going into the page\n",
    "rc(\"align @CA @N\")\n",
    "# Color and highlight\n",
    "rc(\"color grey\")\n",
    "rc(\"repr stick\")\n",
    "rc(\"shape sphere radius 0.5 center @{1} color red\")\n",
    "rc(\"shape sphere radius 0.5 center @{2} color blue\")\n",
    "rc(\"shape sphere radius 0.5 center @{3} color green\")\n",
    "rc(\"shape sphere radius 0.5 center @{4} color orange\")\n",
    "# Save\n",
    "rc(\"copy file {5}.png supersample 3\")\n",
    "# rc(\"close all\")\n",
    "'''.format(d[residue], atom_one, atom_two, atom_three, atom_four, label)\n",
    "    return template"
   ]
  },
  {
   "cell_type": "code",
   "execution_count": 166,
   "metadata": {
    "collapsed": false
   },
   "outputs": [],
   "source": [
    "for angle in range(len(dihedrals)):\n",
    "    atom_one = dihedrals['1'][angle]\n",
    "    atom_two = dihedrals['2'][angle]\n",
    "    atom_three = dihedrals['3'][angle]\n",
    "    atom_four = dihedrals['4'][angle]\n",
    "    residue = dihedrals['Res'][angle]\n",
    "    label = residue + '-' + dihedrals['Angle'][angle]\n",
    "    string = write_input(atom_one, atom_two, atom_three, atom_four, residue, label)\n",
    "    os.chdir('render-dihedrals/') \n",
    "    chimera_file = open(\"tmp.py\", \"w\")\n",
    "    chimera_file.write(string)\n",
    "    chimera_file.close()\n",
    "    render('tmp.py')\n",
    "    os.chdir('../')"
   ]
  },
  {
   "cell_type": "code",
   "execution_count": 109,
   "metadata": {
    "collapsed": false
   },
   "outputs": [],
   "source": [
    "def render(file):\n",
    "    sp.call('chimera-headless --script {}'.format(file), shell=True)"
   ]
  },
  {
   "cell_type": "code",
   "execution_count": 142,
   "metadata": {
    "collapsed": false
   },
   "outputs": [],
   "source": [
    "def print_latex(residue, angle, atom_one, atom_two, atom_three, atom_four, figure):\n",
    "    if angle == 'chi1':\n",
    "        angle = 'chi_1'\n",
    "    elif angle == 'chi2':\n",
    "        angle = 'chi_2'\n",
    "    elif angle == 'chi3':\n",
    "        angle = 'chi_3'\n",
    "    elif angle == 'chi4':\n",
    "        angle = 'chi_4'\n",
    "    elif angle == 'chi5':\n",
    "        angle = 'chi_5'\n",
    "    print('{} & $\\{}$ & {} & {} & {} & {} & \\includegraphics[height=1in]{{{}.png}} \\\\\\\\'.format(residue, angle,\n",
    "                                                                             atom_one, atom_two, atom_three, atom_four, figure))"
   ]
  },
  {
   "cell_type": "code",
   "execution_count": 143,
   "metadata": {
    "collapsed": false
   },
   "outputs": [
    {
     "name": "stdout",
     "output_type": "stream",
     "text": [
      "ARG & $\\phi$ & C & N & CA & C & \\includegraphics[height=1in]{ARG-phi.png} \\\\\n",
      "ARG & $\\psi$ & N & CA & C & N & \\includegraphics[height=1in]{ARG-psi.png} \\\\\n",
      "ARG & $\\omega$ & CA & C & N & CA & \\includegraphics[height=1in]{ARG-omega.png} \\\\\n",
      "ARG & $\\chi_1$ & CG & CB & CA & N & \\includegraphics[height=1in]{ARG-chi1.png} \\\\\n",
      "ARG & $\\chi_2$ & CD & CG & CB & CA & \\includegraphics[height=1in]{ARG-chi2.png} \\\\\n",
      "ARG & $\\chi_3$ & NE & CD & CG & CB & \\includegraphics[height=1in]{ARG-chi3.png} \\\\\n",
      "ARG & $\\chi_4$ & CZ & NE & CD & CG & \\includegraphics[height=1in]{ARG-chi4.png} \\\\\n",
      "ARG & $\\chi_5$ & NH1 & CZ & NE & CD & \\includegraphics[height=1in]{ARG-chi5.png} \\\\\n",
      "HIS & $\\phi$ & C & N & CA & C & \\includegraphics[height=1in]{HIS-phi.png} \\\\\n",
      "HIS & $\\psi$ & N & CA & C & N & \\includegraphics[height=1in]{HIS-psi.png} \\\\\n",
      "HIS & $\\omega$ & CA & C & N & CA & \\includegraphics[height=1in]{HIS-omega.png} \\\\\n",
      "HIS & $\\chi_1$ & CG & CB & CA & N & \\includegraphics[height=1in]{HIS-chi1.png} \\\\\n",
      "HIS & $\\chi_2$ & CD2 & CG & CB & CA & \\includegraphics[height=1in]{HIS-chi2.png} \\\\\n",
      "LYS & $\\phi$ & C & N & CA & C & \\includegraphics[height=1in]{LYS-phi.png} \\\\\n",
      "LYS & $\\psi$ & N & CA & C & N & \\includegraphics[height=1in]{LYS-psi.png} \\\\\n",
      "LYS & $\\omega$ & CA & C & N & CA & \\includegraphics[height=1in]{LYS-omega.png} \\\\\n",
      "LYS & $\\chi_1$ & CG & CB & CA & N & \\includegraphics[height=1in]{LYS-chi1.png} \\\\\n",
      "LYS & $\\chi_2$ & CD & CG & CB & CA & \\includegraphics[height=1in]{LYS-chi2.png} \\\\\n",
      "LYS & $\\chi_3$ & CE & CD & CG & CB & \\includegraphics[height=1in]{LYS-chi3.png} \\\\\n",
      "LYS & $\\chi_4$ & NZ & CE & CD & CG & \\includegraphics[height=1in]{LYS-chi4.png} \\\\\n",
      "LYS & $\\chi_5$ & HZ1 & NZ & CE & CD & \\includegraphics[height=1in]{LYS-chi5.png} \\\\\n",
      "ASP & $\\phi$ & C & N & CA & C & \\includegraphics[height=1in]{ASP-phi.png} \\\\\n",
      "ASP & $\\psi$ & N & CA & C & N & \\includegraphics[height=1in]{ASP-psi.png} \\\\\n",
      "ASP & $\\omega$ & CA & C & N & CA & \\includegraphics[height=1in]{ASP-omega.png} \\\\\n",
      "ASP & $\\chi_1$ & CG & CB & CA & N & \\includegraphics[height=1in]{ASP-chi1.png} \\\\\n",
      "ASP & $\\chi_2$ & OD2 & CG & CB & CA & \\includegraphics[height=1in]{ASP-chi2.png} \\\\\n",
      "GLU & $\\phi$ & C & N & CA & C & \\includegraphics[height=1in]{GLU-phi.png} \\\\\n",
      "GLU & $\\psi$ & N & CA & C & N & \\includegraphics[height=1in]{GLU-psi.png} \\\\\n",
      "GLU & $\\omega$ & CA & C & N & CA & \\includegraphics[height=1in]{GLU-omega.png} \\\\\n",
      "GLU & $\\chi_1$ & CG & CB & CA & N & \\includegraphics[height=1in]{GLU-chi1.png} \\\\\n",
      "GLU & $\\chi_2$ & CD & CG & CB & CA & \\includegraphics[height=1in]{GLU-chi2.png} \\\\\n",
      "GLU & $\\chi_3$ & OE1 & CD & CG & CB & \\includegraphics[height=1in]{GLU-chi3.png} \\\\\n",
      "SER & $\\phi$ & C & N & CA & C & \\includegraphics[height=1in]{SER-phi.png} \\\\\n",
      "SER & $\\psi$ & N & CA & C & N & \\includegraphics[height=1in]{SER-psi.png} \\\\\n",
      "SER & $\\omega$ & CA & C & N & CA & \\includegraphics[height=1in]{SER-omega.png} \\\\\n",
      "SER & $\\chi_1$ & OG & CB & CA & N & \\includegraphics[height=1in]{SER-chi1.png} \\\\\n",
      "THR & $\\phi$ & C & N & CA & C & \\includegraphics[height=1in]{THR-phi.png} \\\\\n",
      "THR & $\\psi$ & N & CA & C & N & \\includegraphics[height=1in]{THR-psi.png} \\\\\n",
      "THR & $\\omega$ & CA & C & N & CA & \\includegraphics[height=1in]{THR-omega.png} \\\\\n",
      "THR & $\\chi_1$ & CG2 & CB & CA & N & \\includegraphics[height=1in]{THR-chi1.png} \\\\\n",
      "THR & $\\chi_2$ & HG1 & OG1 & CB & CA & \\includegraphics[height=1in]{THR-chi2.png} \\\\\n",
      "ASN & $\\phi$ & C & N & CA & C & \\includegraphics[height=1in]{ASN-phi.png} \\\\\n",
      "ASN & $\\psi$ & N & CA & C & N & \\includegraphics[height=1in]{ASN-psi.png} \\\\\n",
      "ASN & $\\omega$ & CA & C & N & CA & \\includegraphics[height=1in]{ASN-omega.png} \\\\\n",
      "ASN & $\\chi_1$ & CG & CB & CA & N & \\includegraphics[height=1in]{ASN-chi1.png} \\\\\n",
      "ASN & $\\chi_2$ & ND2 & CG & CB & CA & \\includegraphics[height=1in]{ASN-chi2.png} \\\\\n",
      "ASN & $\\chi_3$ & HD21 & ND2 & CG & CB & \\includegraphics[height=1in]{ASN-chi3.png} \\\\\n",
      "GLN & $\\phi$ & C & N & CA & C & \\includegraphics[height=1in]{GLN-phi.png} \\\\\n",
      "GLN & $\\psi$ & N & CA & C & N & \\includegraphics[height=1in]{GLN-psi.png} \\\\\n",
      "GLN & $\\omega$ & CA & C & N & CA & \\includegraphics[height=1in]{GLN-omega.png} \\\\\n",
      "GLN & $\\chi_1$ & CG & CB & CA & N & \\includegraphics[height=1in]{GLN-chi1.png} \\\\\n",
      "GLN & $\\chi_2$ & CD & CG & CB & CA & \\includegraphics[height=1in]{GLN-chi2.png} \\\\\n",
      "GLN & $\\chi_3$ & NE2 & CD & CG & CB & \\includegraphics[height=1in]{GLN-chi3.png} \\\\\n",
      "GLN & $\\chi_4$ & HE21 & NE2 & CD & CG & \\includegraphics[height=1in]{GLN-chi4.png} \\\\\n",
      "CYS & $\\phi$ & C & N & CA & C & \\includegraphics[height=1in]{CYS-phi.png} \\\\\n",
      "CYS & $\\psi$ & N & CA & C & N & \\includegraphics[height=1in]{CYS-psi.png} \\\\\n",
      "CYS & $\\omega$ & CA & C & N & CA & \\includegraphics[height=1in]{CYS-omega.png} \\\\\n",
      "CYS & $\\chi_1$ & SG & CB & CA & N & \\includegraphics[height=1in]{CYS-chi1.png} \\\\\n",
      "CYS & $\\chi_2$ & HG & SG & CB & CA & \\includegraphics[height=1in]{CYS-chi2.png} \\\\\n",
      "GLY & $\\phi$ & C & N & CA & C & \\includegraphics[height=1in]{GLY-phi.png} \\\\\n",
      "GLY & $\\psi$ & N & CA & C & N & \\includegraphics[height=1in]{GLY-psi.png} \\\\\n",
      "GLY & $\\omega$ & CA & C & N & CA & \\includegraphics[height=1in]{GLY-omega.png} \\\\\n",
      "PRO & $\\phi$ & C & N & CA & C & \\includegraphics[height=1in]{PRO-phi.png} \\\\\n",
      "PRO & $\\psi$ & N & CA & C & N & \\includegraphics[height=1in]{PRO-psi.png} \\\\\n",
      "PRO & $\\omega$ & CA & C & N & CA & \\includegraphics[height=1in]{PRO-omega.png} \\\\\n",
      "PRO & $\\chi_1$ & CG & CB & CA & N & \\includegraphics[height=1in]{PRO-chi1.png} \\\\\n",
      "PRO & $\\chi_2$ & CD & CG & CB & CA & \\includegraphics[height=1in]{PRO-chi2.png} \\\\\n",
      "PRO & $\\chi_3$ & N & CD & CG & CB & \\includegraphics[height=1in]{PRO-chi3.png} \\\\\n",
      "ALA & $\\phi$ & C & N & CA & C & \\includegraphics[height=1in]{ALA-phi.png} \\\\\n",
      "ALA & $\\psi$ & N & CA & C & N & \\includegraphics[height=1in]{ALA-psi.png} \\\\\n",
      "ALA & $\\omega$ & CA & C & N & CA & \\includegraphics[height=1in]{ALA-omega.png} \\\\\n",
      "ALA & $\\chi_1$ & HB1 & CB & CA & N & \\includegraphics[height=1in]{ALA-chi1.png} \\\\\n",
      "VAL & $\\phi$ & C & N & CA & C & \\includegraphics[height=1in]{VAL-phi.png} \\\\\n",
      "VAL & $\\psi$ & N & CA & C & N & \\includegraphics[height=1in]{VAL-psi.png} \\\\\n",
      "VAL & $\\omega$ & CA & C & N & CA & \\includegraphics[height=1in]{VAL-omega.png} \\\\\n",
      "VAL & $\\chi_1$ & CG1 & CB & CA & N & \\includegraphics[height=1in]{VAL-chi1.png} \\\\\n",
      "ILE & $\\phi$ & C & N & CA & C & \\includegraphics[height=1in]{ILE-phi.png} \\\\\n",
      "ILE & $\\psi$ & N & CA & C & N & \\includegraphics[height=1in]{ILE-psi.png} \\\\\n",
      "ILE & $\\omega$ & CA & C & N & CA & \\includegraphics[height=1in]{ILE-omega.png} \\\\\n",
      "ILE & $\\chi_1$ & CG1 & CB & CA & N & \\includegraphics[height=1in]{ILE-chi1.png} \\\\\n",
      "ILE & $\\chi_2$ & CD1 & CG1 & CB & CA & \\includegraphics[height=1in]{ILE-chi2.png} \\\\\n",
      "LEU & $\\phi$ & C & N & CA & C & \\includegraphics[height=1in]{LEU-phi.png} \\\\\n",
      "LEU & $\\psi$ & N & CA & C & N & \\includegraphics[height=1in]{LEU-psi.png} \\\\\n",
      "LEU & $\\omega$ & CA & C & N & CA & \\includegraphics[height=1in]{LEU-omega.png} \\\\\n",
      "LEU & $\\chi_1$ & CG & CB & CA & N & \\includegraphics[height=1in]{LEU-chi1.png} \\\\\n",
      "LEU & $\\chi_2$ & CD1 & CG & CB & CA & \\includegraphics[height=1in]{LEU-chi2.png} \\\\\n",
      "MET & $\\phi$ & C & N & CA & C & \\includegraphics[height=1in]{MET-phi.png} \\\\\n",
      "MET & $\\psi$ & N & CA & C & N & \\includegraphics[height=1in]{MET-psi.png} \\\\\n",
      "MET & $\\omega$ & CA & C & N & CA & \\includegraphics[height=1in]{MET-omega.png} \\\\\n",
      "MET & $\\chi_1$ & CG & CB & CA & N & \\includegraphics[height=1in]{MET-chi1.png} \\\\\n",
      "MET & $\\chi_2$ & SD & CG & CB & CA & \\includegraphics[height=1in]{MET-chi2.png} \\\\\n",
      "MET & $\\chi_3$ & CE & SD & CG & CB & \\includegraphics[height=1in]{MET-chi3.png} \\\\\n",
      "PHE & $\\phi$ & C & N & CA & C & \\includegraphics[height=1in]{PHE-phi.png} \\\\\n",
      "PHE & $\\psi$ & N & CA & C & N & \\includegraphics[height=1in]{PHE-psi.png} \\\\\n",
      "PHE & $\\omega$ & CA & C & N & CA & \\includegraphics[height=1in]{PHE-omega.png} \\\\\n",
      "PHE & $\\chi_1$ & CG & CB & CA & N & \\includegraphics[height=1in]{PHE-chi1.png} \\\\\n",
      "PHE & $\\chi_2$ & CD1 & CG & CB & CA & \\includegraphics[height=1in]{PHE-chi2.png} \\\\\n",
      "TYR & $\\phi$ & C & N & CA & C & \\includegraphics[height=1in]{TYR-phi.png} \\\\\n",
      "TYR & $\\psi$ & N & CA & C & N & \\includegraphics[height=1in]{TYR-psi.png} \\\\\n",
      "TYR & $\\omega$ & CA & C & N & CA & \\includegraphics[height=1in]{TYR-omega.png} \\\\\n",
      "TYR & $\\chi_1$ & CG & CB & CA & N & \\includegraphics[height=1in]{TYR-chi1.png} \\\\\n",
      "TYR & $\\chi_2$ & CD1 & CG & CB & CA & \\includegraphics[height=1in]{TYR-chi2.png} \\\\\n",
      "TYR & $\\chi_3$ & HH & OH & CZ & CE1 & \\includegraphics[height=1in]{TYR-chi3.png} \\\\\n",
      "TRP & $\\phi$ & C & N & CA & C & \\includegraphics[height=1in]{TRP-phi.png} \\\\\n",
      "TRP & $\\psi$ & N & CA & C & N & \\includegraphics[height=1in]{TRP-psi.png} \\\\\n",
      "TRP & $\\omega$ & CA & C & N & CA & \\includegraphics[height=1in]{TRP-omega.png} \\\\\n",
      "TRP & $\\chi_1$ & CG & CB & CA & N & \\includegraphics[height=1in]{TRP-chi1.png} \\\\\n",
      "TRP & $\\chi_2$ & CD1 & CG & CB & CA & \\includegraphics[height=1in]{TRP-chi2.png} \\\\\n"
     ]
    }
   ],
   "source": [
    "for row in range(len(dihedrals)):\n",
    "    print_latex(dihedrals['Res'][row], dihedrals['Angle'][row], \n",
    "               dihedrals['1'][row], dihedrals['2'][row],\n",
    "               dihedrals['3'][row], dihedrals['4'][row],\n",
    "               dihedrals['Res'][row] + '-' + dihedrals['Angle'][row])"
   ]
  },
  {
   "cell_type": "code",
   "execution_count": null,
   "metadata": {
    "collapsed": true
   },
   "outputs": [],
   "source": []
  }
 ],
 "metadata": {
  "anaconda-cloud": {},
  "kernelspec": {
   "display_name": "Python [Root]",
   "language": "python",
   "name": "Python [Root]"
  },
  "language_info": {
   "codemirror_mode": {
    "name": "ipython",
    "version": 3
   },
   "file_extension": ".py",
   "mimetype": "text/x-python",
   "name": "python",
   "nbconvert_exporter": "python",
   "pygments_lexer": "ipython3",
   "version": "3.5.1"
  }
 },
 "nbformat": 4,
 "nbformat_minor": 0
}
